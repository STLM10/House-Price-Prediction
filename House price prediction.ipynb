
  {
   "cell_type": "code",
   "execution_count": 1,
   "metadata": {},
   "outputs": [],
   "source": [
    "import numpy as np\n",
    "import pandas as pd\n",
    "import matplotlib.pyplot as plt"
   ]
  },
  {
   "cell_type": "code",
   "execution_count": 2,
   "metadata": {},
   "outputs": [],
   "source": [
    "from sklearn.preprocessing import MinMaxScaler\n",
    "data2 = pd.read_csv('https://raw.githubusercontent.com/itsanikesh03/ME698/main/housing.csv',sep=\",\", header = None)\n",
    "obj = MinMaxScaler()\n",
    "ss_data = pd.DataFrame(obj.fit_transform(data2))\n",
    "x2 = ss_data.iloc[:,:-1]\n",
    "t2 = ss_data.iloc[:,13]"
   ]
  },
  {
   "cell_type": "code",
   "execution_count": 99,
   "metadata": {},
   "outputs": [],
   "source": [
    "from sklearn.model_selection import train_test_split\n",
    "xtr2, xts2,ytr2,yts2 = train_test_split(x2,t2,test_size=0.1,random_state=4)\n",
    "Xtrain = np.c_[np.ones(len(xtr2)),xtr2]\n",
    "Xtest = np.c_[np.ones(len(xts2)),xts2]"
   ]
  },
  {
   "cell_type": "code",
   "execution_count": 100,
   "metadata": {},
   "outputs": [],
   "source": [
    "weight2 = np.ones(14)\n",
    "wG = np.zeros(14)\n",
    "itrn2 = 10000\n",
    "LR = 0.1\n",
    "for j in range (itrn2):\n",
    "    y2 = Xtrain.dot(weight2)\n",
    "    N2 = len(Xtrain)\n",
    "    for k in range (len(weight2)):\n",
    "        wG[k%14] = (-2/N2)*sum((Xtrain[:,k%14])*(ytr2-y2))\n",
    "        weight2[k%14] = weight2[k%14] - LR*wG[k%14]\n",
    "\n",
    "Yp2 = Xtest.dot(weight2)   \n",
    "     \n"
   ]
  },
  {
   "cell_type": "code",
   "execution_count": 101,
   "metadata": {},
   "outputs": [],
   "source": [
    "Yp3 = Yp2.reshape(-1,1) "
   ]
  },
  {
   "cell_type": "code",
   "execution_count": 102,
   "metadata": {},
   "outputs": [],
   "source": [
    "DF1 = np.c_[yts2,xts2]\n",
    "DF2 = np.c_[Yp3,xts2,]"
   ]
  },
  {
   "cell_type": "code",
   "execution_count": 103,
   "metadata": {},
   "outputs": [],
   "source": [
    "ReScale1 = pd.DataFrame(obj.inverse_transform(DF1))\n",
    "ReScale2 = pd.DataFrame(obj.inverse_transform(DF2))"
   ]
  },
  {
   "cell_type": "code",
   "execution_count": 104,
   "metadata": {},
   "outputs": [],
   "source": [
    "Y_predicted = ReScale2[0]\n",
    "Y_test = ReScale1[0]"
   ]
  },
  {
   "cell_type": "code",
   "execution_count": 105,
   "metadata": {},
   "outputs": [
    {
     "name": "stdout",
     "output_type": "stream",
     "text": [
      ">>> Predicted values for targets are :\n",
      " 0     12.781479\n",
      "1     43.112403\n",
      "2     24.590740\n",
      "3     24.830234\n",
      "4     64.049822\n",
      "5     39.700237\n",
      "6     51.528370\n",
      "7     30.272042\n",
      "8     29.005889\n",
      "9     35.253783\n",
      "10    46.411690\n",
      "11    46.532538\n",
      "12    27.143953\n",
      "13    55.587329\n",
      "14    32.318218\n",
      "15    20.183784\n",
      "16    32.774255\n",
      "17    11.728170\n",
      "18    13.243364\n",
      "19    16.896693\n",
      "20     0.158119\n",
      "21    24.531912\n",
      "22    31.033905\n",
      "23    35.059790\n",
      "24    22.674502\n",
      "25    30.505654\n",
      "26    24.785704\n",
      "27    18.248710\n",
      "28    32.748518\n",
      "29    24.385056\n",
      "30    18.369146\n",
      "31    37.430247\n",
      "32    57.965602\n",
      "33    33.691324\n",
      "34    24.677397\n",
      "35    30.068564\n",
      "36    50.835992\n",
      "37    59.747266\n",
      "38    37.712637\n",
      "39    38.587190\n",
      "40    62.827791\n",
      "41    55.666604\n",
      "42    29.022470\n",
      "43    53.258504\n",
      "44    56.456258\n",
      "45    40.713645\n",
      "46    70.375734\n",
      "47    25.701438\n",
      "48    29.521839\n",
      "49    36.885981\n",
      "50    56.330046\n",
      "Name: 0, dtype: float64\n",
      ">>> Weights :  [ 0.48716158 -0.24860371  0.10756707  0.01118213  0.06856006 -0.18704955\n",
      "  0.41966088  0.00473357 -0.36482212  0.16348011 -0.14819847 -0.19370459\n",
      "  0.08385062 -0.42965108]\n",
      ">>> Mean Absolute Error =  6.288779666247595\n"
     ]
    }
   ],
   "source": [
    "N_test2 = len(yts2)\n",
    "MAE2 = sum((abs(Y_predicted - Y_test)))/N_test2\n",
    "print('>>> Predicted values for targets are :\\n',Y_predicted)\n",
    "print('>>> Weights : ',weight2)\n",
    "print('>>> Mean Absolute Error = ',MAE2)"
   ]
  }
 ],
 "metadata": {
  "interpreter": {
   "hash": "7033a598c4e3dfb720271314b9986e8120e41fea5459a27e9c362ce2ab6a468c"
  },
  "kernelspec": {
   "display_name": "Python 3.9.2 64-bit",
   "language": "python",
   "name": "python3"
  },
  "language_info": {
   "codemirror_mode": {
    "name": "ipython",
    "version": 3
   },
   "file_extension": ".py",
   "mimetype": "text/x-python",
   "name": "python",
   "nbconvert_exporter": "python",
   "pygments_lexer": "ipython3",
   "version": "3.9.2"
  },
  "orig_nbformat": 4
 },
 "nbformat": 4,
 "nbformat_minor": 2
}
